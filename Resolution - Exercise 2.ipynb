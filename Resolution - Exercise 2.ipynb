{
 "cells": [
  {
   "cell_type": "code",
   "execution_count": 32,
   "id": "a8d52770",
   "metadata": {},
   "outputs": [
    {
     "name": "stdout",
     "output_type": "stream",
     "text": [
      "Sales Report\n",
      "Report start date: Mon 01th February, 2021 starting value:112.0\n",
      "Report end date: Sun 28th February, 2021 total sales: 112.0\n",
      "\n",
      "Mon 01th February, 2021 Ventas 0.14 Total $0\n",
      "Tue 02th February, 2021 Ventas 0.57 Total $0.14\n",
      "Wed 03th February, 2021 Ventas 1.29 Total $0.71\n",
      "Thu 04th February, 2021 Ventas 2.29 Total $2.0\n",
      "Fri 05th February, 2021 Ventas 3.57 Total $4.29\n",
      "Sat 06th February, 2021 Ventas 5.14 Total $7.86\n",
      "Sun 07th February, 2021 Ventas 7.0 Total $13.0\n",
      "Mon 08th February, 2021 Ventas 9.14 Total $20.0\n",
      "Tue 09th February, 2021 Ventas 11.57 Total $29.14\n",
      "Wed 10th February, 2021 Ventas 14.29 Total $40.71\n",
      "Thu 11th February, 2021 Ventas 17.29 Total $55.0\n",
      "Fri 12th February, 2021 Ventas 20.57 Total $72.29\n",
      "Sat 13th February, 2021 Ventas 24.14 Total $92.86\n",
      "Sun 14th February, 2021 Ventas 28.0 Total $117.0\n",
      "Mon 15th February, 2021 Ventas 32.14 Total $145.0\n",
      "Tue 16th February, 2021 Ventas 36.57 Total $177.14\n",
      "Wed 17th February, 2021 Ventas 41.29 Total $213.71\n",
      "Thu 18th February, 2021 Ventas 46.29 Total $255.0\n",
      "Fri 19th February, 2021 Ventas 51.57 Total $301.29\n",
      "Sat 20th February, 2021 Ventas 57.14 Total $352.86\n",
      "Sun 21th February, 2021 Ventas 63.0 Total $410.0\n",
      "Mon 22th February, 2021 Ventas 69.14 Total $473.0\n",
      "Tue 23th February, 2021 Ventas 75.57 Total $542.14\n",
      "Wed 24th February, 2021 Ventas 82.29 Total $617.71\n",
      "Thu 25th February, 2021 Ventas 89.29 Total $700.0\n",
      "Fri 26th February, 2021 Ventas 96.57 Total $789.29\n",
      "Sat 27th February, 2021 Ventas 104.14 Total $885.86\n",
      "Sun 28th February, 2021 Ventas 112.0 Total $990.0\n",
      "Total sales for the month 1102.0\n"
     ]
    }
   ],
   "source": [
    "from datetime import datetime\n",
    "'''\n",
    "This task is to fix this code to write out a simple monthly report. The report should look professional.\n",
    "The aim of the exercise is to:\n",
    "- Ensure that the code works as specified including date formats\n",
    "- Make sure the code will work correctly for any month\n",
    "- Make sure the code is efficient\n",
    "- Ensure adherence to PEP-8 and good coding standards for readability\n",
    "- No need to add comments unless you wish to\n",
    "- No need to add features to improve the output, but it should be sensible given the constraints of the exercise.\n",
    "Code should display a dummy sales report\n",
    "'''\n",
    "### Do not change anything in the section below, it is just setting up some sample data \"\n",
    "#test_data is a dictionary keyed on day number containing the date and sales figures for that day\n",
    "month = \"02\"\n",
    "test_data = {f\"{x}\": {\"date\": datetime.strptime(f\"2021{month}{x:02d}\", \"%Y%m%d\"),\n",
    "                      'sales': float(x ** 2 / 7)} for x in range(1, 29)}\n",
    "### Do not change anything in the section above, it is just setting up some sample data\n",
    "start = test_data['1']\n",
    "end = test_data['28']\n",
    "\n",
    "\n",
    "def DateToDisplayDate(date):\n",
    "    # E.g. Monday 8th February, 2021\n",
    "    if type(date) == str:\n",
    "        return date\n",
    "    else:\n",
    "        return (f\"\"\"{date.strftime(\"%a\")} {date.strftime(\"%d\")}th {date.strftime(\"%B\")}, {date.strftime(\"%Y\")}\"\"\")\n",
    "\n",
    "start[\"date\"] = DateToDisplayDate(start[\"date\"])\n",
    "end[\"date\"] = DateToDisplayDate(end[\"date\"])\n",
    "\n",
    "\n",
    "print(\"Sales Report\\nReport start date: \" + start[\"date\"] + \" starting value:\" + str(round(end[\"sales\"],2)))\n",
    "print(\"Report end date: \" + end[\"date\"] + \" total sales: \" + str(round(end[\"sales\"],2)) + \"\\n\")\n",
    "\n",
    "total = 0\n",
    "\n",
    "for k, v in test_data.items():\n",
    "    # print(\"Date                                Sales    Month to Date  \")\n",
    "    print(f\"\"\"{DateToDisplayDate(v['date'])} Ventas {round(v['sales'], 2)} Total ${round(total, 2)}\"\"\")\n",
    "    if month == \"02\" and k == \"29\":\n",
    "        print(\"Leap year\")  # Must be displayed if data is for a leap year\n",
    "    total = v['sales']+total\n",
    "print(f\"Total sales for the month {total}\")"
   ]
  },
  {
   "cell_type": "code",
   "execution_count": null,
   "id": "268ebf5f",
   "metadata": {},
   "outputs": [],
   "source": []
  }
 ],
 "metadata": {
  "kernelspec": {
   "display_name": "Python 3 (ipykernel)",
   "language": "python",
   "name": "python3"
  },
  "language_info": {
   "codemirror_mode": {
    "name": "ipython",
    "version": 3
   },
   "file_extension": ".py",
   "mimetype": "text/x-python",
   "name": "python",
   "nbconvert_exporter": "python",
   "pygments_lexer": "ipython3",
   "version": "3.9.7"
  }
 },
 "nbformat": 4,
 "nbformat_minor": 5
}
