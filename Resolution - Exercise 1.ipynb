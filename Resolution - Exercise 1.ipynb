{
 "cells": [
  {
   "cell_type": "markdown",
   "id": "7ef4e238",
   "metadata": {},
   "source": [
    "# PYTHON PROGRAMMING EXERCISE"
   ]
  },
  {
   "cell_type": "markdown",
   "id": "aedbbdc5",
   "metadata": {},
   "source": [
    "### Introduction - Exercise I\n",
    "Thank you for doing our programming exercise. The task at hand is to use Python to read a csv file and calculate some values. \n",
    "The solution should use python 3.x and no external libraries, only the python standard library. It is expected to take about an hour to complete the exercise.\n"
   ]
  },
  {
   "cell_type": "markdown",
   "id": "c70c946e",
   "metadata": {},
   "source": [
    "### Data\n",
    "Attached is a csv file with insider transactions in multiple stocks and exchanges, each line corresponds to one transaction. The file is provided with headers, the headers are self-descriptive, but if you do not know what they mean that does not matter for the exercise. "
   ]
  },
  {
   "cell_type": "markdown",
   "id": "cbf37b34",
   "metadata": {},
   "source": [
    "### Tasks\n",
    "The application should be able to calculate and write out the answers to the below questions. \n",
    "What Exchange has had the most transactions in the file? \n",
    "In August 2017, which companyName had the highest combined valueEUR?\n",
    "For 2017, only considering transactions with tradeSignificance 3, what is the percentage of transactions per month?\n",
    "We expect a list as per below:\n",
    "Jan, 10%\n",
    "Feb, 5%\n",
    "..//..//\n",
    "Dec, 7%"
   ]
  },
  {
   "cell_type": "code",
   "execution_count": 1,
   "id": "cb809305",
   "metadata": {},
   "outputs": [],
   "source": [
    "import csv\n",
    "from collections import Counter"
   ]
  },
  {
   "cell_type": "code",
   "execution_count": 2,
   "id": "21f970dc",
   "metadata": {},
   "outputs": [
    {
     "name": "stdout",
     "output_type": "stream",
     "text": [
      "El exchange con más transacciones fue <off exchange>, con un total de <9588> operaciones\n"
     ]
    }
   ],
   "source": [
    "with open('2017.csv', mode='r', encoding='utf-8') as File:\n",
    "    \n",
    "    exchange_list = list()\n",
    "    count_exchange = dict()\n",
    "    \n",
    "    csv_reader = csv.DictReader(File)\n",
    "    \n",
    "    for row in csv_reader:\n",
    "        exchange_list.append(row['exchange'])\n",
    "        \n",
    "    count_keys = list(Counter(exchange_list).keys())\n",
    "    count_values = list(Counter(exchange_list).values())\n",
    "    mayor = max(count_values)\n",
    "    count_exchange = {count_keys[i]:count_values[i] for i in range(len(count_keys))}\n",
    "    \n",
    "    for clave,valor in count_exchange.items():\n",
    "        if valor == mayor:\n",
    "            print (f\"El exchange con más transacciones fue <{clave}>, con un total de <{valor}> operaciones\")\n",
    "File.close()\n"
   ]
  },
  {
   "cell_type": "code",
   "execution_count": 3,
   "id": "905ead60",
   "metadata": {},
   "outputs": [
    {
     "name": "stdout",
     "output_type": "stream",
     "text": [
      "el valor max es:27119000.0\n"
     ]
    }
   ],
   "source": [
    "with open('2017.csv', mode='r', encoding='utf-8') as File:\n",
    "    \n",
    "    csv_file = csv.DictReader(File)\n",
    "    maximo = 0\n",
    "    for row in csv_file:\n",
    "        if '201706' in row['tradedate']:\n",
    "            entero = float(row['valueEUR'])\n",
    "            if entero > maximo:\n",
    "                maximo = entero\n",
    "    print(f'el valor max es:{round(maximo,2)}')\n",
    "File.close()\n"
   ]
  },
  {
   "cell_type": "code",
   "execution_count": 4,
   "id": "534d5f3c",
   "metadata": {},
   "outputs": [
    {
     "name": "stdout",
     "output_type": "stream",
     "text": [
      "el porcentaje del mes de January es: 7.62 %\n",
      "el porcentaje del mes de February es: 8.41 %\n",
      "el porcentaje del mes de March es: 12.67 %\n",
      "el porcentaje del mes de April es: 7.27 %\n",
      "el porcentaje del mes de May es: 10.98 %\n",
      "el porcentaje del mes de June es: 1.09 %\n",
      "el porcentaje del mes de July es: 0.4 %\n",
      "el porcentaje del mes de August es: 8.78 %\n",
      "el porcentaje del mes de September es: 12.59 %\n",
      "el porcentaje del mes de October es: 10.01 %\n",
      "el porcentaje del mes de November es: 11.23 %\n",
      "el porcentaje del mes de December es: 8.96 %\n"
     ]
    }
   ],
   "source": [
    "def switcher(dic,mes):\n",
    "    month_counter_dic = dic\n",
    "    counter = month_counter_dic[mes] + 1\n",
    "    month_counter_dic[mes] = counter\n",
    "    counter = 0\n",
    "    \n",
    "with open('2017.csv', mode='r', encoding='utf-8') as File:\n",
    "    \n",
    "    csv_reader = csv.DictReader(File)\n",
    "    \n",
    "    keys_names = ['tradedate','tradeSignificance','percentagepermonth']\n",
    "    month_list = {\n",
    "        '01':'January',\n",
    "        '02':'February',\n",
    "        '03':'March',\n",
    "        '04':'April',\n",
    "        '05':'May',\n",
    "        '06':'June',\n",
    "        '07':'July',\n",
    "        '08':'August',\n",
    "        '09':'September',\n",
    "        '10':'October',\n",
    "        '11':'November',\n",
    "        '12':'December'\n",
    "    }\n",
    "    month_counter_dic ={\n",
    "        '01':0,\n",
    "        '02':0,\n",
    "        '03':0,\n",
    "        '04':0,\n",
    "        '05':0,\n",
    "        '06':0,\n",
    "        '07':0,\n",
    "        '08':0,\n",
    "        '09':0,\n",
    "        '10':0,\n",
    "        '11':0,\n",
    "        '12':0\n",
    "    }\n",
    "    \n",
    "    for row in csv_reader:\n",
    "        date = row['tradedate']\n",
    "        if '2017' in date and '3' in row['tradeSignificance']:\n",
    "            mes = date[4:6]\n",
    "            switcher(month_counter_dic,mes)\n",
    "\n",
    "    porcentaje = lambda x,y=100,z=sum(month_counter_dic.values()): round((x*y)/z,2)\n",
    "    \n",
    "    for k,v in month_counter_dic.items():\n",
    "        print(f'el porcentaje del mes de {month_list[k]} es: {porcentaje(v)} %')\n",
    "File.close()\n"
   ]
  }
 ],
 "metadata": {
  "kernelspec": {
   "display_name": "Python 3 (ipykernel)",
   "language": "python",
   "name": "python3"
  },
  "language_info": {
   "codemirror_mode": {
    "name": "ipython",
    "version": 3
   },
   "file_extension": ".py",
   "mimetype": "text/x-python",
   "name": "python",
   "nbconvert_exporter": "python",
   "pygments_lexer": "ipython3",
   "version": "3.9.7"
  }
 },
 "nbformat": 4,
 "nbformat_minor": 5
}
